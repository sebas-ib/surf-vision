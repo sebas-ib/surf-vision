{
 "cells": [
  {
   "cell_type": "markdown",
   "metadata": {},
   "source": [
    "# Random Forest Model"
   ]
  },
  {
   "cell_type": "code",
   "execution_count": 1,
   "metadata": {},
   "outputs": [],
   "source": [
    "# Importing the libraries\n",
    "import pandas as pd\n",
    "import numpy as np\n",
    "from sklearn.model_selection import train_test_split\n",
    "from sklearn.preprocessing import LabelEncoder\n",
    "from sklearn.metrics import accuracy_score, classification_report\n",
    "\n",
    "# Uncomment this to use sklearn's RandomForestClassifier:\n",
    "# from sklearn.ensemble import RandomForestClassifier\n",
    "\n",
    "import matplotlib.pyplot as plt\n",
    "from collections import Counter"
   ]
  },
  {
   "cell_type": "code",
   "execution_count": 2,
   "metadata": {},
   "outputs": [
    {
     "name": "stdout",
     "output_type": "stream",
     "text": [
      "Data loaded\n",
      "Features selected\n"
     ]
    }
   ],
   "source": [
    "\n",
    "# Load the data\n",
    "df = pd.read_csv('swell-data/Blacks_Beach_North_San_Diego_County_swell_data - Blacks_Beach_North_San_Diego_County_swell_data.csv.csv')\n",
    "print(\"Data loaded\")\n",
    "\n",
    "# Preprocess the data\n",
    "# Convert 'Date' to datetime and extract relevant features\n",
    "df['Date'] = pd.to_datetime(df['Date'])\n",
    "df['DayOfWeek'] = df['Date'].dt.dayofweek\n",
    "df['Month'] = df['Date'].dt.month\n",
    "\n",
    "# Select relevant features\n",
    "features = ['Time', 'Wave Height (ft)', 'Primary Swell (ft)', 'Primary Swell (seconds)', \n",
    "            'Wind (kts)', 'Wave Energy', 'Consistency', 'DayOfWeek', 'Month']\n",
    "X = df[features]\n",
    "y = df['w/nw']\n",
    "print(\"Features selected\")"
   ]
  },
  {
   "cell_type": "code",
   "execution_count": 3,
   "metadata": {},
   "outputs": [],
   "source": [
    "# Encode the target variable\n",
    "le = LabelEncoder()\n",
    "y = le.fit_transform(y)\n",
    "\n",
    "# Split the data into training and testing sets\n",
    "X_train, X_test, y_train, y_test = train_test_split(X, y, test_size=0.2, random_state=42)"
   ]
  },
  {
   "cell_type": "markdown",
   "metadata": {},
   "source": [
    "### Custom RandomForestClassifier class\n",
    "\n",
    "Same functionality as importing RandomForestClassifier from sklearn.ensemble. If sklearn's is preferred, uncomment in imports and not run the following code cell."
   ]
  },
  {
   "cell_type": "code",
   "execution_count": 4,
   "metadata": {},
   "outputs": [],
   "source": [
    "class DecisionTree:\n",
    "    def __init__(self, max_depth=None):\n",
    "        self.max_depth = max_depth\n",
    "        self.tree = None\n",
    "\n",
    "    def _gini(self, y):\n",
    "        _, counts = np.unique(y, return_counts=True)\n",
    "        return 1 - np.sum((counts / len(y)) ** 2)\n",
    "\n",
    "    def _split(self, X, y, feature, threshold):\n",
    "        left_mask = X[:, feature] <= threshold\n",
    "        return (X[left_mask], y[left_mask], X[~left_mask], y[~left_mask])\n",
    "\n",
    "    def _best_split(self, X, y):\n",
    "        best_gini = float('inf')\n",
    "        best_feature, best_threshold = None, None\n",
    "\n",
    "        for feature in range(X.shape[1]):\n",
    "            thresholds = np.unique(X[:, feature])\n",
    "            for threshold in thresholds:\n",
    "                _, y_left, _, y_right = self._split(X, y, feature, threshold)\n",
    "                gini = (len(y_left) * self._gini(y_left) + len(y_right) * self._gini(y_right)) / len(y)\n",
    "                if gini < best_gini:\n",
    "                    best_gini = gini\n",
    "                    best_feature = feature\n",
    "                    best_threshold = threshold\n",
    "\n",
    "        return best_feature, best_threshold\n",
    "\n",
    "    def _build_tree(self, X, y, depth=0):\n",
    "        if len(np.unique(y)) == 1 or (self.max_depth and depth == self.max_depth):\n",
    "            return Counter(y).most_common(1)[0][0]\n",
    "\n",
    "        feature, threshold = self._best_split(X, y)\n",
    "        if feature is None:\n",
    "            return Counter(y).most_common(1)[0][0]\n",
    "\n",
    "        X_left, y_left, X_right, y_right = self._split(X, y, feature, threshold)\n",
    "        \n",
    "        return {\n",
    "            'feature': feature,\n",
    "            'threshold': threshold,\n",
    "            'left': self._build_tree(X_left, y_left, depth + 1),\n",
    "            'right': self._build_tree(X_right, y_right, depth + 1)\n",
    "        }\n",
    "\n",
    "    def fit(self, X, y):\n",
    "        self.tree = self._build_tree(X, y)\n",
    "\n",
    "    def _predict_single(self, x, tree):\n",
    "        if not isinstance(tree, dict):\n",
    "            return tree\n",
    "        if x[tree['feature']] <= tree['threshold']:\n",
    "            return self._predict_single(x, tree['left'])\n",
    "        return self._predict_single(x, tree['right'])\n",
    "\n",
    "    def predict(self, X):\n",
    "        return np.array([self._predict_single(x, self.tree) for x in X])\n",
    "\n",
    "class RandomForestClassifier:\n",
    "    def __init__(self, n_estimators=100, max_depth=None, random_state=None):\n",
    "        self.n_estimators = n_estimators\n",
    "        self.max_depth = max_depth\n",
    "        self.random_state = random_state\n",
    "        self.trees = []\n",
    "        self.feature_importances_ = None\n",
    "\n",
    "    def _bootstrap_sample(self, X, y):\n",
    "        n_samples = X.shape[0]\n",
    "        idxs = np.random.choice(n_samples, size=n_samples, replace=True)\n",
    "        return X[idxs], y[idxs]\n",
    "\n",
    "    def fit(self, X, y):\n",
    "        X = np.array(X)\n",
    "        y = np.array(y)\n",
    "        \n",
    "        np.random.seed(self.random_state)\n",
    "        self.trees = []\n",
    "        for _ in range(self.n_estimators):\n",
    "            tree = DecisionTree(max_depth=self.max_depth)\n",
    "            X_sample, y_sample = self._bootstrap_sample(X, y)\n",
    "            tree.fit(X_sample, y_sample)\n",
    "            self.trees.append(tree)\n",
    "        \n",
    "        self.feature_importances_ = np.zeros(X.shape[1])\n",
    "        for tree in self.trees:\n",
    "            self._update_feature_importances(tree.tree, 1.0)\n",
    "        self.feature_importances_ /= self.n_estimators\n",
    "\n",
    "    def _update_feature_importances(self, node, weight):\n",
    "        if isinstance(node, dict):\n",
    "            self.feature_importances_[node['feature']] += weight\n",
    "            left_size = self._get_node_size(node['left'])\n",
    "            right_size = self._get_node_size(node['right'])\n",
    "            total_size = left_size + right_size\n",
    "            if total_size > 0:\n",
    "                left_weight = weight * left_size / total_size\n",
    "                right_weight = weight * right_size / total_size\n",
    "                self._update_feature_importances(node['left'], left_weight)\n",
    "                self._update_feature_importances(node['right'], right_weight)\n",
    "\n",
    "    def _get_node_size(self, node):\n",
    "        if isinstance(node, dict):\n",
    "            return self._get_node_size(node['left']) + self._get_node_size(node['right'])\n",
    "        else:\n",
    "            return 1\n",
    "\n",
    "    def predict(self, X):\n",
    "        X = np.array(X)\n",
    "        tree_preds = np.array([tree.predict(X) for tree in self.trees])\n",
    "        return np.array([Counter(pred).most_common(1)[0][0] for pred in tree_preds.T])\n",
    "\n",
    "    def predict_proba(self, X):\n",
    "        X = np.array(X)\n",
    "        tree_preds = np.array([tree.predict(X) for tree in self.trees])\n",
    "        probas = []\n",
    "        for pred in tree_preds.T:\n",
    "            count = Counter(pred)\n",
    "            total = sum(count.values())\n",
    "            # Ensure we always have probabilities for both classes (0 and 1)\n",
    "            proba = [count.get(0, 0) / total, count.get(1, 0) / total]\n",
    "            probas.append(proba)\n",
    "        return np.array(probas)"
   ]
  },
  {
   "cell_type": "markdown",
   "metadata": {},
   "source": [
    "### Training"
   ]
  },
  {
   "cell_type": "code",
   "execution_count": 5,
   "metadata": {},
   "outputs": [
    {
     "name": "stdout",
     "output_type": "stream",
     "text": [
      "creating random forest model...\n",
      "model created\n"
     ]
    }
   ],
   "source": [
    "# Create and train the Random Forest model\n",
    "print(\"creating random forest model...\")\n",
    "rf_model = RandomForestClassifier(n_estimators=100, random_state=42)\n",
    "rf_model.fit(X_train, y_train)\n",
    "print(\"model created\")"
   ]
  },
  {
   "cell_type": "code",
   "execution_count": 6,
   "metadata": {},
   "outputs": [
    {
     "name": "stdout",
     "output_type": "stream",
     "text": [
      "Made predictions\n"
     ]
    }
   ],
   "source": [
    "# Make predictions on the test set\n",
    "y_pred = rf_model.predict(X_test)\n",
    "print(\"Made predictions\")"
   ]
  },
  {
   "cell_type": "code",
   "execution_count": 7,
   "metadata": {},
   "outputs": [
    {
     "name": "stdout",
     "output_type": "stream",
     "text": [
      "\n",
      "Model Accuracy: 0.92\n",
      "\n",
      "Classification Report:\n",
      "                   precision    recall  f1-score   support\n",
      "\n",
      "Not Worth Surfing       0.87      1.00      0.93        13\n",
      "    Worth Surfing       1.00      0.85      0.92        13\n",
      "\n",
      "         accuracy                           0.92        26\n",
      "        macro avg       0.93      0.92      0.92        26\n",
      "     weighted avg       0.93      0.92      0.92        26\n",
      "\n"
     ]
    }
   ],
   "source": [
    "# Evaluate the model\n",
    "accuracy = accuracy_score(y_test, y_pred)\n",
    "print(f\"\\nModel Accuracy: {accuracy:.2f}\")\n",
    "print(\"\\nClassification Report:\")\n",
    "print(classification_report(y_test, y_pred, target_names=['Not Worth Surfing', 'Worth Surfing']))"
   ]
  },
  {
   "cell_type": "code",
   "execution_count": 8,
   "metadata": {},
   "outputs": [
    {
     "name": "stdout",
     "output_type": "stream",
     "text": [
      "\n",
      "Feature Importance:\n",
      "                   feature  importance\n",
      "4               Wind (kts)    1.309593\n",
      "0                     Time    0.593201\n",
      "6              Consistency    0.444231\n",
      "5              Wave Energy    0.423554\n",
      "3  Primary Swell (seconds)    0.219800\n",
      "2       Primary Swell (ft)    0.197641\n",
      "1         Wave Height (ft)    0.149578\n",
      "8                    Month    0.082755\n",
      "7                DayOfWeek    0.076714\n"
     ]
    }
   ],
   "source": [
    "# Feature importance\n",
    "feature_importance = pd.DataFrame({\n",
    "    'feature': features,\n",
    "    'importance': rf_model.feature_importances_\n",
    "}).sort_values('importance', ascending=False)\n",
    "\n",
    "print(\"\\nFeature Importance:\")\n",
    "print(feature_importance)"
   ]
  },
  {
   "cell_type": "code",
   "execution_count": 9,
   "metadata": {},
   "outputs": [
    {
     "name": "stdout",
     "output_type": "stream",
     "text": [
      "\n",
      "Feature importance plot saved as 'feature_importance_blacks_beach.png'\n"
     ]
    },
    {
     "data": {
      "image/png": "[encoded data removed]",
      "text/plain": [
       "<Figure size 1000x600 with 1 Axes>"
      ]
     },
     "metadata": {},
     "output_type": "display_data"
    }
   ],
   "source": [
    "# Plot feature importance\n",
    "plt.figure(figsize=(10, 6))\n",
    "plt.bar(feature_importance['feature'], feature_importance['importance'])\n",
    "plt.title('Feature Importance')\n",
    "plt.xlabel('Features')\n",
    "plt.ylabel('Importance')\n",
    "plt.xticks(rotation=45, ha='right')\n",
    "plt.tight_layout()\n",
    "plt.savefig('results/random-forest/feature_importance_blacks_beach.png')\n",
    "print(\"\\nFeature importance plot saved as 'feature_importance_blacks_beach.png'\")"
   ]
  },
  {
   "cell_type": "code",
   "execution_count": 10,
   "metadata": {},
   "outputs": [
    {
     "name": "stdout",
     "output_type": "stream",
     "text": [
      "\n",
      "Example Prediction:\n",
      "\n",
      "Features: {'Time': 21.0, 'Wave Height (ft)': 6.0, 'Primary Swell (ft)': 7.3, 'Primary Swell (seconds)': 8.0, 'Wind (kts)': 17.0, 'Wave Energy': 439.0, 'Consistency': 78.0, 'DayOfWeek': 5.0, 'Month': 4.0}\n",
      "Prediction: Worth surfing\n",
      "Probability of being worth surfing: 1.00\n"
     ]
    }
   ],
   "source": [
    "# Example prediction\n",
    "example = X_test.iloc[0].values.reshape(1, -1)\n",
    "prediction = rf_model.predict(example)\n",
    "probability = rf_model.predict_proba(example)\n",
    "\n",
    "print(\"\\nExample Prediction:\\n\")\n",
    "print(f\"Features: {X_test.iloc[0].to_dict()}\")\n",
    "print(f\"Prediction: {'Worth surfing' if prediction[0] == 1 else 'Not worth surfing'}\")\n",
    "print(f\"Probability of being worth surfing: {probability[0][1]:.2f}\")"
   ]
  },
  {
   "cell_type": "code",
   "execution_count": 11,
   "metadata": {},
   "outputs": [
    {
     "name": "stdout",
     "output_type": "stream",
     "text": [
      "\n",
      "Model saved as 'surf_prediction_model_blacks_beach.joblib'\n"
     ]
    }
   ],
   "source": [
    "# Save the model\n",
    "import joblib\n",
    "joblib.dump(rf_model, 'results/random-forest/surf_prediction_model_blacks_beach.joblib')\n",
    "print(\"\\nModel saved as 'surf_prediction_model_blacks_beach.joblib'\")"
   ]
  }
 ],
 "metadata": {
  "kernelspec": {
   "display_name": "venv",
   "language": "python",
   "name": "python3"
  },
  "language_info": {
   "codemirror_mode": {
    "name": "ipython",
    "version": 3
   },
   "file_extension": ".py",
   "mimetype": "text/x-python",
   "name": "python",
   "nbconvert_exporter": "python",
   "pygments_lexer": "ipython3",
   "version": "3.12.6"
  }
 },
 "nbformat": 4,
 "nbformat_minor": 2
}
